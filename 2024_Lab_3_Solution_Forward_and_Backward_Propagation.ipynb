{
  "nbformat": 4,
  "nbformat_minor": 0,
  "metadata": {
    "colab": {
      "provenance": [],
      "toc_visible": true,
      "include_colab_link": true
    },
    "kernelspec": {
      "name": "python3",
      "display_name": "Python 3"
    },
    "language_info": {
      "name": "python"
    }
  },
  "cells": [
    {
      "cell_type": "markdown",
      "metadata": {
        "id": "view-in-github",
        "colab_type": "text"
      },
      "source": [
        "<a href=\"https://colab.research.google.com/github/mmxMichelle/Python-AI/blob/main/2024_Lab_3_Solution_Forward_and_Backward_Propagation.ipynb\" target=\"_parent\"><img src=\"https://colab.research.google.com/assets/colab-badge.svg\" alt=\"Open In Colab\"/></a>"
      ]
    },
    {
      "cell_type": "markdown",
      "source": [
        "# Lab 3 - Forward and Backward Propagation\n",
        "\n",
        "In this lab, you will gain hands-on experience in creating a feedforward neural network using [PyTorch](https://pytorch.org/). PyTorch is an open-source deep learning framework developed by Facebook's AI Research lab (FAIR). Key features of PyTorch include dynamic neural networks, automatic differentiation, and dynamic computation.\n",
        "\n",
        "By the end of this session, you will learn:\n",
        "\n",
        "* **[[Exercise 1]](#ex1) Forward Pass** - How to create a feedforward network, and make predictions on new inputs.\n",
        "* **[[Exercise 2]](#ex2) Backward Pass** - How to track gradient updates, visualise computational graph, and implement a training loop that involves a custom loss function, backpropagation, and optimisation with stochastic gradient descent (SGD).\n",
        "\n"
      ],
      "metadata": {
        "id": "OZ09qPNw9b09"
      }
    },
    {
      "cell_type": "markdown",
      "source": [
        "# Warm-Up Exercise\n",
        "\n",
        "For PyTorch newcomers, this warm-up exercise will demonstrate basic PyTorch usage for solving a pure mathematical problem.\n",
        "\n",
        "If you are already familiar with PyTorch, feel free to skip this warm-up exercise and proceed directly to [Exercise 1](#ex1).\n",
        "\n",
        "*   Given the following function:\n",
        "\n",
        "$$y=x^2 + 3x + 1$$\n",
        "\n",
        "1.   Using `PyTorch` autograd, compute $y'(2)$, *i.e.* the derivative of $y$ with respect to $x$ at a given point $x=2$.\n",
        "\n",
        "2.  Using `torchviz`, visualise computational graph of $y$."
      ],
      "metadata": {
        "id": "Jw6Kyx8MzHO-"
      }
    },
    {
      "cell_type": "markdown",
      "source": [
        "### Solution to Question (1)"
      ],
      "metadata": {
        "id": "HVb-p37t3w5P"
      }
    },
    {
      "cell_type": "markdown",
      "source": [
        "First, we import PyTorch, and enable gradient computation by setting `torch.set_grad_enabled` to `True`.\n"
      ],
      "metadata": {
        "id": "_dT79XtL63Gq"
      }
    },
    {
      "cell_type": "code",
      "source": [
        "# Import the 'torch' library for neural network operations\n",
        "import torch\n",
        "\n",
        "# Enable gradient computation\n",
        "torch.set_grad_enabled(True)"
      ],
      "metadata": {
        "id": "8b8HYrED7hk3",
        "colab": {
          "base_uri": "https://localhost:8080/"
        },
        "outputId": "f8dfb940-4e39-483e-f3ad-1cc79ca6eb1f"
      },
      "execution_count": null,
      "outputs": [
        {
          "output_type": "execute_result",
          "data": {
            "text/plain": [
              "<torch.autograd.grad_mode.set_grad_enabled at 0x78dfc941ee90>"
            ]
          },
          "metadata": {},
          "execution_count": 39
        }
      ]
    },
    {
      "cell_type": "markdown",
      "source": [
        "Then, we create an input tensor `x`, initialise its value to `2`, and set `requires_grad=True` for `x` to track its gradient."
      ],
      "metadata": {
        "id": "9Y12Z6BV7s9X"
      }
    },
    {
      "cell_type": "code",
      "source": [
        "# Create input tensor\n",
        "x = torch.tensor(2.0, requires_grad=True)"
      ],
      "metadata": {
        "id": "hsn1URcF8ATH"
      },
      "execution_count": null,
      "outputs": []
    },
    {
      "cell_type": "markdown",
      "source": [
        "Next, we define a function that computes $y = x^2 + 3x + 1$. We evaluate the output $y$ by passing $x$ to the function."
      ],
      "metadata": {
        "id": "UHzOkQPt8JqY"
      }
    },
    {
      "cell_type": "code",
      "source": [
        "# Define a function\n",
        "def f(x):\n",
        "    y = x ** 2 + 3 * x + 1\n",
        "    return y\n",
        "\n",
        "# Evaluate the output of the function\n",
        "y = f(x)"
      ],
      "metadata": {
        "id": "Cc8whRP8MtTF"
      },
      "execution_count": null,
      "outputs": []
    },
    {
      "cell_type": "markdown",
      "source": [
        "After that, we call `y.backward()` to automatically compute the gradients of `y` with respect to `x` using `autograd`."
      ],
      "metadata": {
        "id": "PRiv4W_GoWA2"
      }
    },
    {
      "cell_type": "code",
      "source": [
        "# Compute gradients\n",
        "y.backward()"
      ],
      "metadata": {
        "id": "p8nf-7gyogmv"
      },
      "execution_count": null,
      "outputs": []
    },
    {
      "cell_type": "markdown",
      "source": [
        "Finally, we access the computed gradient using `x.grad`."
      ],
      "metadata": {
        "id": "aFca3Z3fojC3"
      }
    },
    {
      "cell_type": "code",
      "source": [
        "# Access gradients\n",
        "gradient = x.grad\n",
        "\n",
        "print(\"Input x = \", x.item())\n",
        "print(\"Gradient y'(2) = \", gradient.item())"
      ],
      "metadata": {
        "id": "o3AyqySeopb3",
        "colab": {
          "base_uri": "https://localhost:8080/"
        },
        "outputId": "3cd22667-bc09-480c-cfc8-c87bf8d52d19"
      },
      "execution_count": null,
      "outputs": [
        {
          "output_type": "stream",
          "name": "stdout",
          "text": [
            "Input x =  2.0\n",
            "Gradient y'(2) =  7.0\n"
          ]
        }
      ]
    },
    {
      "cell_type": "markdown",
      "source": [
        "###  Solution to Question (2)\n",
        "\n",
        "The `torchviz` library provides visualisation capabilities for PyTorch computational graphs.\n",
        "\n",
        "If this is your first time to use `torchviz`,  please install the following package to proceed:\n",
        "\n"
      ],
      "metadata": {
        "id": "KS-FlX7JKh44"
      }
    },
    {
      "cell_type": "code",
      "source": [
        "# Install the torchviz library, which is required for creating PyTorch computational graphs.\n",
        "!pip install torchviz"
      ],
      "metadata": {
        "id": "9HMP06beQ-Vn",
        "colab": {
          "base_uri": "https://localhost:8080/"
        },
        "outputId": "36864548-9f16-405f-a654-913ab6dd019b"
      },
      "execution_count": null,
      "outputs": [
        {
          "output_type": "stream",
          "name": "stdout",
          "text": [
            "Requirement already satisfied: torchviz in /usr/local/lib/python3.10/dist-packages (0.0.2)\n",
            "Requirement already satisfied: torch in /usr/local/lib/python3.10/dist-packages (from torchviz) (2.1.0+cu121)\n",
            "Requirement already satisfied: graphviz in /usr/local/lib/python3.10/dist-packages (from torchviz) (0.20.1)\n",
            "Requirement already satisfied: filelock in /usr/local/lib/python3.10/dist-packages (from torch->torchviz) (3.13.1)\n",
            "Requirement already satisfied: typing-extensions in /usr/local/lib/python3.10/dist-packages (from torch->torchviz) (4.9.0)\n",
            "Requirement already satisfied: sympy in /usr/local/lib/python3.10/dist-packages (from torch->torchviz) (1.12)\n",
            "Requirement already satisfied: networkx in /usr/local/lib/python3.10/dist-packages (from torch->torchviz) (3.2.1)\n",
            "Requirement already satisfied: jinja2 in /usr/local/lib/python3.10/dist-packages (from torch->torchviz) (3.1.3)\n",
            "Requirement already satisfied: fsspec in /usr/local/lib/python3.10/dist-packages (from torch->torchviz) (2023.6.0)\n",
            "Requirement already satisfied: triton==2.1.0 in /usr/local/lib/python3.10/dist-packages (from torch->torchviz) (2.1.0)\n",
            "Requirement already satisfied: MarkupSafe>=2.0 in /usr/local/lib/python3.10/dist-packages (from jinja2->torch->torchviz) (2.1.5)\n",
            "Requirement already satisfied: mpmath>=0.19 in /usr/local/lib/python3.10/dist-packages (from sympy->torch->torchviz) (1.3.0)\n"
          ]
        }
      ]
    },
    {
      "cell_type": "markdown",
      "source": [
        "First, we import the following two graph visualisation libraries:"
      ],
      "metadata": {
        "id": "fhODtVnfSs7V"
      }
    },
    {
      "cell_type": "code",
      "source": [
        "# Import the torchviz library, which generates PyTorch computational graphs.\n",
        "import torchviz\n",
        "\n",
        "# Import the necessary modules from IPython.display, which displays images in the Jupyter Notebook.\n",
        "from IPython.display import display, Image"
      ],
      "metadata": {
        "id": "I0mx5WnwSTs8"
      },
      "execution_count": null,
      "outputs": []
    },
    {
      "cell_type": "markdown",
      "source": [
        "Then, we create a visualisation of the computational graph in PyTorch, using `torchviz.make_dot`."
      ],
      "metadata": {
        "id": "Rwuu8QbCU98m"
      }
    },
    {
      "cell_type": "code",
      "source": [
        "# Create a computational graph visualization using torchviz for the function y with x as a parameter\n",
        "dot = torchviz.make_dot(y, params={\"x\": x, \"y\": y})"
      ],
      "metadata": {
        "id": "eZbYpGy3VThe"
      },
      "execution_count": null,
      "outputs": []
    },
    {
      "cell_type": "markdown",
      "source": [
        "The `torchviz.make_dot` function typically takes two arguments:\n",
        "\n",
        "*   The first argument, `y`, is the output tensor for which we want to generate the computational graph\n",
        "*   The second argument, `params`, is an optional dictionary that allows us to provide input tensors to the graph for visualising the gradients or tracking specific tensors during the computation.\n",
        "\n",
        "The output `dot` object from `torchviz.make_dot` can be rendered and saved as an image file using the `render` method.\n",
        "\n",
        "Next, we specify the output format (e.g. PNG or SVG), using the `format` attribute of the `dot` object, and render and save the computational graph visualization as an image file named `computational_graph.png`."
      ],
      "metadata": {
        "id": "fUdLcWcjVXhn"
      }
    },
    {
      "cell_type": "code",
      "source": [
        "# Render and save the computational graph visualization as an image file named \"computational_graph.png\"\n",
        "dot.render(filename='computational_graph', directory='./', format = 'png', cleanup=True)"
      ],
      "metadata": {
        "colab": {
          "base_uri": "https://localhost:8080/"
        },
        "id": "Qc5hc7yJXI_T",
        "outputId": "982865a1-39ba-403d-fea1-6a9f8ca3101a"
      },
      "execution_count": null,
      "outputs": [
        {
          "output_type": "execute_result",
          "data": {
            "text/plain": [
              "'computational_graph.png'"
            ],
            "application/vnd.google.colaboratory.intrinsic+json": {
              "type": "string"
            }
          },
          "metadata": {},
          "execution_count": 34
        }
      ]
    },
    {
      "cell_type": "markdown",
      "source": [
        "Finally, we display the rendered computational graph, using the `display` function from the `IPython.display` module."
      ],
      "metadata": {
        "id": "oYYsKb8yXaLj"
      }
    },
    {
      "cell_type": "code",
      "source": [
        "display(dot)"
      ],
      "metadata": {
        "colab": {
          "base_uri": "https://localhost:8080/"
        },
        "id": "nYIXhzOYXuZ_",
        "outputId": "4e868d1e-7592-4ac4-cfed-68641d1c9660"
      },
      "execution_count": null,
      "outputs": [
        {
          "output_type": "display_data",
          "data": {
            "image/svg+xml": "<?xml version=\"1.0\" encoding=\"UTF-8\" standalone=\"no\"?>\n<!DOCTYPE svg PUBLIC \"-//W3C//DTD SVG 1.1//EN\"\n \"http://www.w3.org/Graphics/SVG/1.1/DTD/svg11.dtd\">\n<!-- Generated by graphviz version 2.43.0 (0)\n -->\n<!-- Title: %3 Pages: 1 -->\n<svg width=\"204pt\" height=\"324pt\"\n viewBox=\"0.00 0.00 204.00 324.00\" xmlns=\"http://www.w3.org/2000/svg\" xmlns:xlink=\"http://www.w3.org/1999/xlink\">\n<g id=\"graph0\" class=\"graph\" transform=\"scale(1 1) rotate(0) translate(4 320)\">\n<title>%3</title>\n<polygon fill=\"white\" stroke=\"transparent\" points=\"-4,4 -4,-320 200,-320 200,4 -4,4\"/>\n<!-- 140640482168720 -->\n<g id=\"node1\" class=\"node\">\n<title>140640482168720</title>\n<polygon fill=\"#caff70\" stroke=\"black\" points=\"124.5,-30 70.5,-30 70.5,0 124.5,0 124.5,-30\"/>\n<text text-anchor=\"middle\" x=\"97.5\" y=\"-18\" font-family=\"monospace\" font-size=\"10.00\">y</text>\n<text text-anchor=\"middle\" x=\"97.5\" y=\"-7\" font-family=\"monospace\" font-size=\"10.00\"> ()</text>\n</g>\n<!-- 140640481963616 -->\n<g id=\"node2\" class=\"node\">\n<title>140640481963616</title>\n<polygon fill=\"lightgrey\" stroke=\"black\" points=\"142,-85 53,-85 53,-66 142,-66 142,-85\"/>\n<text text-anchor=\"middle\" x=\"97.5\" y=\"-73\" font-family=\"monospace\" font-size=\"10.00\">AddBackward0</text>\n</g>\n<!-- 140640481963616&#45;&gt;140640482168720 -->\n<g id=\"edge7\" class=\"edge\">\n<title>140640481963616&#45;&gt;140640482168720</title>\n<path fill=\"none\" stroke=\"black\" d=\"M97.5,-65.87C97.5,-59.11 97.5,-49.35 97.5,-40.26\"/>\n<polygon fill=\"black\" stroke=\"black\" points=\"101,-40.11 97.5,-30.11 94,-40.11 101,-40.11\"/>\n</g>\n<!-- 140640481961744 -->\n<g id=\"node3\" class=\"node\">\n<title>140640481961744</title>\n<polygon fill=\"lightgrey\" stroke=\"black\" points=\"142,-140 53,-140 53,-121 142,-121 142,-140\"/>\n<text text-anchor=\"middle\" x=\"97.5\" y=\"-128\" font-family=\"monospace\" font-size=\"10.00\">AddBackward0</text>\n</g>\n<!-- 140640481961744&#45;&gt;140640481963616 -->\n<g id=\"edge1\" class=\"edge\">\n<title>140640481961744&#45;&gt;140640481963616</title>\n<path fill=\"none\" stroke=\"black\" d=\"M97.5,-120.75C97.5,-113.8 97.5,-103.85 97.5,-95.13\"/>\n<polygon fill=\"black\" stroke=\"black\" points=\"101,-95.09 97.5,-85.09 94,-95.09 101,-95.09\"/>\n</g>\n<!-- 140640481967120 -->\n<g id=\"node4\" class=\"node\">\n<title>140640481967120</title>\n<polygon fill=\"lightgrey\" stroke=\"black\" points=\"89,-195 0,-195 0,-176 89,-176 89,-195\"/>\n<text text-anchor=\"middle\" x=\"44.5\" y=\"-183\" font-family=\"monospace\" font-size=\"10.00\">PowBackward0</text>\n</g>\n<!-- 140640481967120&#45;&gt;140640481961744 -->\n<g id=\"edge2\" class=\"edge\">\n<title>140640481967120&#45;&gt;140640481961744</title>\n<path fill=\"none\" stroke=\"black\" d=\"M53.25,-175.75C60.97,-168.03 72.4,-156.6 81.72,-147.28\"/>\n<polygon fill=\"black\" stroke=\"black\" points=\"84.31,-149.64 88.91,-140.09 79.36,-144.69 84.31,-149.64\"/>\n</g>\n<!-- 140640481963568 -->\n<g id=\"node5\" class=\"node\">\n<title>140640481963568</title>\n<polygon fill=\"lightgrey\" stroke=\"black\" points=\"148,-250 47,-250 47,-231 148,-231 148,-250\"/>\n<text text-anchor=\"middle\" x=\"97.5\" y=\"-238\" font-family=\"monospace\" font-size=\"10.00\">AccumulateGrad</text>\n</g>\n<!-- 140640481963568&#45;&gt;140640481967120 -->\n<g id=\"edge3\" class=\"edge\">\n<title>140640481963568&#45;&gt;140640481967120</title>\n<path fill=\"none\" stroke=\"black\" d=\"M88.75,-230.75C81.03,-223.03 69.6,-211.6 60.28,-202.28\"/>\n<polygon fill=\"black\" stroke=\"black\" points=\"62.64,-199.69 53.09,-195.09 57.69,-204.64 62.64,-199.69\"/>\n</g>\n<!-- 140640481963904 -->\n<g id=\"node7\" class=\"node\">\n<title>140640481963904</title>\n<polygon fill=\"lightgrey\" stroke=\"black\" points=\"196,-195 107,-195 107,-176 196,-176 196,-195\"/>\n<text text-anchor=\"middle\" x=\"151.5\" y=\"-183\" font-family=\"monospace\" font-size=\"10.00\">MulBackward0</text>\n</g>\n<!-- 140640481963568&#45;&gt;140640481963904 -->\n<g id=\"edge6\" class=\"edge\">\n<title>140640481963568&#45;&gt;140640481963904</title>\n<path fill=\"none\" stroke=\"black\" d=\"M106.42,-230.75C114.28,-223.03 125.93,-211.6 135.42,-202.28\"/>\n<polygon fill=\"black\" stroke=\"black\" points=\"138.06,-204.59 142.75,-195.09 133.16,-199.6 138.06,-204.59\"/>\n</g>\n<!-- 140640482169760 -->\n<g id=\"node6\" class=\"node\">\n<title>140640482169760</title>\n<polygon fill=\"lightblue\" stroke=\"black\" points=\"124.5,-316 70.5,-316 70.5,-286 124.5,-286 124.5,-316\"/>\n<text text-anchor=\"middle\" x=\"97.5\" y=\"-304\" font-family=\"monospace\" font-size=\"10.00\">x</text>\n<text text-anchor=\"middle\" x=\"97.5\" y=\"-293\" font-family=\"monospace\" font-size=\"10.00\"> ()</text>\n</g>\n<!-- 140640482169760&#45;&gt;140640481963568 -->\n<g id=\"edge4\" class=\"edge\">\n<title>140640482169760&#45;&gt;140640481963568</title>\n<path fill=\"none\" stroke=\"black\" d=\"M97.5,-285.84C97.5,-278.21 97.5,-268.7 97.5,-260.45\"/>\n<polygon fill=\"black\" stroke=\"black\" points=\"101,-260.27 97.5,-250.27 94,-260.27 101,-260.27\"/>\n</g>\n<!-- 140640481963904&#45;&gt;140640481961744 -->\n<g id=\"edge5\" class=\"edge\">\n<title>140640481963904&#45;&gt;140640481961744</title>\n<path fill=\"none\" stroke=\"black\" d=\"M142.58,-175.75C134.72,-168.03 123.07,-156.6 113.58,-147.28\"/>\n<polygon fill=\"black\" stroke=\"black\" points=\"115.84,-144.6 106.25,-140.09 110.94,-149.59 115.84,-144.6\"/>\n</g>\n</g>\n</svg>\n",
            "text/plain": [
              "<graphviz.graphs.Digraph at 0x7fe969f7e680>"
            ]
          },
          "metadata": {}
        }
      ]
    },
    {
      "cell_type": "markdown",
      "source": [
        "The computational graph generated above using `torchviz.make_dot`  for the given expression $y = x^2 + 3x + 1$ provides a visual representation of the operations and dependencies involved in computing the value of $y$ based on the input $x$.\n",
        "\n",
        "This computational graph can be interpreted as follows:\n",
        "\n",
        "*   Input Node (x): This node represents the input tensor x. It serves as the starting point of the computation.\n",
        "\n",
        "*   Operation Nodes:\n",
        "\n",
        "   *   `PowBackward0` node  ($x^2$):  This node represents the square operation performed on $x$, resulting in $x^2$.\n",
        "\n",
        "   *   `MulBackward0` node ($3x$): This node represents the multiplication operation between 3 and $x$, resulting in $3x$.\n",
        "\n",
        "   *   The first `AddBackward0` node (`PowBackward0` + `MulBackward0`): This node represents the addition operation between the results of `PowBackward0` node and `MulBackward0` node. It computes $(x^2) + (3x)$.  \n",
        "\n",
        "   *   The second `AddBackward0` node (`AddBackward0` + 1): This node represents the addition operation between the results of the first `AddBackward0` node and 1. It computes $((x^2) + (3x)) + 1$.     \n",
        "\n",
        "*   Output Node ($y$): This node represents the final output $y$, which returns the output value of the second `AddBackward0`.\n",
        "\n"
      ],
      "metadata": {
        "id": "zDnrmRFWnnf2"
      }
    },
    {
      "cell_type": "markdown",
      "source": [
        "---"
      ],
      "metadata": {
        "id": "1uTb5dsmifyf"
      }
    },
    {
      "cell_type": "markdown",
      "source": [
        "# <a name=\"ex1\">Exercise 1</a> - Create a Feedfoward Network and Make Predictions\n",
        "  "
      ],
      "metadata": {
        "id": "JW9OyCPaCHBG"
      }
    },
    {
      "cell_type": "markdown",
      "source": [
        "In this exercise, we will employ PyTorch to complete the following two tasks:\n",
        "\n",
        "1. Create a feedforward neural network with the following architecture:\n",
        "\n",
        "*   Input Layer: 3 neurons\n",
        "*   Hidden Layer: 2 neurons, with `Tanh()` activation function\n",
        "*   Output Layer: 1 neuron, with  `Sigmoid()` activation function\n",
        "\n",
        "2. Initially, the weights and biases of the network are as follows:"
      ],
      "metadata": {
        "id": "Sivo17EaBrTz"
      }
    },
    {
      "cell_type": "markdown",
      "source": [
        "<figure>\n",
        "<img width=\"450px\" src=\"data:image/png;base64,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\"/>\n",
        "<figcaption>Figure 1 - A Feedforward Neural Network with Three Layers</figcaption>\n",
        "</figure>"
      ],
      "metadata": {
        "id": "T9dFGhNJAhAH"
      }
    },
    {
      "cell_type": "markdown",
      "source": [
        "Given input values $(x_1, x_2, x_3) = (-1, 0, 1)$, predict the output of the network."
      ],
      "metadata": {
        "id": "kg78rj0sAp2k"
      }
    },
    {
      "cell_type": "markdown",
      "source": [
        "## 1.1 Import PyTorch Library\n",
        "\n",
        "First, we import the PyTorch library `torch` and its neural network module `torch.nn`."
      ],
      "metadata": {
        "id": "VdA-xpzwK051"
      }
    },
    {
      "cell_type": "code",
      "source": [
        "# Import the PyTorch library\n",
        "import torch\n",
        "\n",
        "# Import the neural network module from PyTorch\n",
        "import torch.nn as nn"
      ],
      "metadata": {
        "id": "mEBiWQpajHtY"
      },
      "execution_count": null,
      "outputs": []
    },
    {
      "cell_type": "markdown",
      "source": [
        "## 1.2 Define Fully Connected Layers\n",
        "\n",
        "We now define two fully connected (linear) layers for the network. Each fully connected layer can be created using `nn.Linear(input_size, output_size)`, where `input_size` and `output_size` denote the number of neurons for input and output, respectively.\n"
      ],
      "metadata": {
        "id": "fXQekKHCjfOl"
      }
    },
    {
      "cell_type": "code",
      "source": [
        "# TODO: Add a line of code to create the first fully connected layer between Layer 0 and Layer 1 (Figure 1),\n",
        "#       where Layer 0 has 3 neurons (input_size), and Layer 1 has 2 neurons (output_size).\n",
        "layer_1 = nn.Linear(3, 2)\n",
        "\n",
        "# TODO: Add a line of code to create the second fully connected layer between Layer 1 and Layer 2 (Figure 1),\n",
        "#       where Layer 1 has 2 neurons (input_size), and Layer 2 has 1 neuron (output_size).\n",
        "layer_2 = nn.Linear(2, 1)\n"
      ],
      "metadata": {
        "id": "VXTandpn01xV"
      },
      "execution_count": null,
      "outputs": []
    },
    {
      "cell_type": "markdown",
      "source": [
        "## 1.3 Define Activation Functions\n",
        "\n",
        "Next, using PyTorch's `nn` module, we define two activation functions. `nn` module provides various activation functions, including\n",
        "\n",
        "| Activation Function                 | Description                           |\n",
        "|-------------------------------------|------------------------------------------|\n",
        "| `nn.ReLU()`                         | Rectified Linear Unit (ReLU)             |\n",
        "| `nn.LeakyReLU()`                    | Leaky Rectified Linear Unit (Leaky ReLU) |\n",
        "| `nn.PReLU()`                        | Parametric Rectified Linear Unit (PReLU) |\n",
        "| `nn.Tanh()`                         | Hyperbolic Tangent (Tanh)                |\n",
        "| `nn.SELU()`                         | Scaled Exponential Linear Unit (SELU)   |\n",
        "| `nn.Softmax(dim=1)`                 | Softmax                                  |\n",
        "\n",
        "\n",
        "Below, we create two activation functions: `Tanh` and `Sigmoid`, using PyTorch's `nn` module."
      ],
      "metadata": {
        "id": "2IUWTtZC8hiq"
      }
    },
    {
      "cell_type": "code",
      "source": [
        "# TODO: Add a line of code to create an instance 'func_1' of the Tanh activation function\n",
        "func_1 = nn.Tanh()\n",
        "\n",
        "# TODO: Add a line of code to create an instance 'func_2' of the Sigmoid activation function\n",
        "func_2 = nn.Sigmoid()"
      ],
      "metadata": {
        "id": "lgKBv9Xb9HxX"
      },
      "execution_count": null,
      "outputs": []
    },
    {
      "cell_type": "markdown",
      "source": [
        "## 1.4 Create Feedforward Network\n",
        "\n",
        "Using `nn.Sequential()`, we now construct a feedforward network (`net`) by stacking all the predefined layers and activation functions in the sequential order (`layer_1, func_1, layer_2, func_2`). The order reflects the sequence in which they will execute during the forward pass."
      ],
      "metadata": {
        "id": "Kd4P3jLx9Zs3"
      }
    },
    {
      "cell_type": "code",
      "source": [
        "# TODO: Add a line of code to create a feedforward neural network model (net) using nn.Sequential\n",
        "#       The net model stacks (layer_1, func_1, layer_2, func_2) in a squence manner.\n",
        "net = nn.Sequential(layer_1, func_1, layer_2, func_2)\n"
      ],
      "metadata": {
        "id": "onxaij8b-nPI"
      },
      "execution_count": null,
      "outputs": []
    },
    {
      "cell_type": "markdown",
      "source": [
        " ## 1.5 Initialise Weights and Biases\n",
        "\n",
        "We will use `torch.tensors` to represent initial values for weights and biases. In PyTorch, a tensor is a fundamental data structure (a multi-dimensional array) that can store scalars, vectors, and matrices. For example, the following code creates a 2x3 tensor with  specified values."
      ],
      "metadata": {
        "id": "DIy2NNie-lq_"
      }
    },
    {
      "cell_type": "code",
      "source": [
        "# Create a 2-D tensor (z), representing a 2x3 matrix with the specified values.\n",
        "z = torch.tensor([[1, 2, 3],\n",
        "                  [4, 5, 6]])"
      ],
      "metadata": {
        "id": "N-bwMc1oA1i6"
      },
      "execution_count": null,
      "outputs": []
    },
    {
      "cell_type": "markdown",
      "source": [
        " Next, using `torch.tensor`, we initialise weights and biases for each linear layer in the network (`net`) with the specified values in Figure 1."
      ],
      "metadata": {
        "id": "zpxdTBd8FwfI"
      }
    },
    {
      "cell_type": "markdown",
      "source": [
        "<figure>\n",
        "<img width=\"450px\" src=\"data:image/png;base64,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\"/>\n",
        "<figcaption>Figure 1 - A Feedforward Neural Network with Three Layers</figcaption>\n",
        "</figure>"
      ],
      "metadata": {
        "id": "5MDzrZP30ssO"
      }
    },
    {
      "cell_type": "code",
      "source": [
        "# Set initial weights for the first linear layer (net[0]),\n",
        "# using a 2-D tensor denoting a 2x3 matrix with the specified values in Figure 1.\n",
        "net[0].weight.data = torch.tensor([[1.0, 3.0, 0.0],\n",
        "                                   [-2.0, 1.0, 1.0]])\n",
        "\n",
        "# Set initial biases for the first linear layer (net[0]),\n",
        "# using a 1-D tensor denoting a length-2 vector with the specified values in Figure 1.\n",
        "net[0].bias.data = torch.tensor([-1.0, 1.0])\n",
        "\n",
        "# Set initial weights for the second linear layer (net[2]),\n",
        "# using a 2-D tensor denoting a 1x2 matrix with the specified values in Figure 1.\n",
        "net[2].weight.data = torch.tensor([[3.0, 1.0]])\n",
        "\n",
        "# Set initial biases for the second linear layer (net[2]),\n",
        "# using a 1-D tensor denoting a length-1 vector with the specified values in Figure 1.\n",
        "net[2].bias.data = torch.tensor([2.0])"
      ],
      "metadata": {
        "id": "GIGFI9lYF77n"
      },
      "execution_count": null,
      "outputs": []
    },
    {
      "cell_type": "markdown",
      "source": [
        "## 1.6 Make Predictions on New Inputs\n",
        "\n",
        "Given input values $(x_1, x_2, x_3) = (-1, 0, 1)$, we define them as a 1-D tensor `(x)`, representing a vector of length 3."
      ],
      "metadata": {
        "id": "PijCarg4IOPM"
      }
    },
    {
      "cell_type": "code",
      "source": [
        "# TODO: Add a line of code to define input data as a 1-D tensor (x) representing a vector of length 3.\n",
        "x = torch.tensor([-1.0, 0.0, 1.0])"
      ],
      "metadata": {
        "id": "Yyi_tUFAQhAZ"
      },
      "execution_count": null,
      "outputs": []
    },
    {
      "cell_type": "markdown",
      "source": [
        "To predict the output `(y_pred)` of the network, we next pass the input data `(x)` through the previously defined network model `(net)`."
      ],
      "metadata": {
        "id": "EFk4HmHpQiAs"
      }
    },
    {
      "cell_type": "code",
      "source": [
        "# TODO: Add a line of code to pass the input data (x) through the network (net) to get predicted output (y_pred)\n",
        "y_pred = net(x)\n",
        "\n",
        "# Convert the output tensor to a NumPy array and print the predictive values\n",
        "# Here, detach() is used to detach the tensor from the computation graph,\n",
        "#       numpy() is used to convert it to a NumPy array.\n",
        "print(\"Predictions:\", y_pred.detach().numpy())\n"
      ],
      "metadata": {
        "colab": {
          "base_uri": "https://localhost:8080/"
        },
        "id": "35lZTnULQ8Ib",
        "outputId": "ac86c585-df18-4665-d828-972a42210319"
      },
      "execution_count": null,
      "outputs": [
        {
          "output_type": "stream",
          "name": "stdout",
          "text": [
            "Predictions: [0.52678597]\n"
          ]
        }
      ]
    },
    {
      "cell_type": "markdown",
      "source": [
        "# <a name=\"ex2\">Exercise 2</a> - Backpropagation\n",
        "\n",
        "Based on the network built in Exercise 1, we next learn how to track gradient updates, visualise computational graph, and implement a training loop that involves a custom loss function, backpropagation, and optimisation with stochastic gradient descent (SGD).\n",
        "\n",
        "Specifically, using PyTorch, we will complete the following tasks:\n",
        "\n",
        "\n",
        "*  Using the network `net` and the predicted output `y_pred` from Exercise 1, we define the loss function `Loss` between `y_pred` and the actual output `y` as follows:\n",
        "\n",
        "$$ L = Loss(y, y_{pred}) := \\frac{1}{2} (y - y_{pred})^2$$\n",
        "\n",
        "1.  Given the actual output `y=1`, compute the new gradient $∂L / ∂w_5  $ after one backward pass.\n",
        "\n",
        "2.  Setting the learning rate $\\alpha = 0.1$, compute the updated weight `w5` after one backward pass.\n",
        "\n",
        "3.  Visualise the computational graph for the given `Loss`."
      ],
      "metadata": {
        "id": "-TvXbWuoZork"
      }
    },
    {
      "cell_type": "markdown",
      "source": [
        "## 2.1 Evaluate Loss\n",
        "\n",
        "First, we define a custom loss function `Loss` that inherits from `nn.Module` as follows. The `forward` function defines the computation for the loss function. Based on the loss definition, the loss function returns the mean squared difference between predicted `y_pred` and actual `y`, scaled by `1/2`.\n"
      ],
      "metadata": {
        "id": "zCk7UduVxxyh"
      }
    },
    {
      "cell_type": "code",
      "source": [
        "# Create a custom loss function using PyTorch's nn.Module\n",
        "#   y_pred: Predicted output from the network\n",
        "#   y: Actual target values\n",
        "\n",
        "class Loss(nn.Module):\n",
        "    def forward(self, y_pred, y):\n",
        "        # TODO: Add a line of code to calculate the loss (l) between predicted (y_pred) and actual (y).\n",
        "        l = 0.5 * torch.mean((y - y_pred) ** 2)\n",
        "        return l\n",
        "\n",
        "# Define a loss function to be our custom loss function Loss\n",
        "loss_function = Loss()"
      ],
      "metadata": {
        "id": "miIOq-xiy0By"
      },
      "execution_count": null,
      "outputs": []
    },
    {
      "cell_type": "markdown",
      "source": [
        "Next, we create a 1-D tensor representing the actual (target) output `y=1`, and calculate the `loss` using the defined loss function `(loss_function)`, along with the predicted `(y_pred)` and actual output `(y)`.\n",
        "\n",
        "\n",
        "\n"
      ],
      "metadata": {
        "id": "ELLkVMsQ0R4I"
      }
    },
    {
      "cell_type": "code",
      "source": [
        "# TODO: Add a line of code to create a 1-D tensor 'y' with a single target output y=1.0 using torch.tensor\n",
        "y = torch.tensor([1.0])\n",
        "\n",
        "#  TODO: Add a line of code to calculate the 'loss' using the defined 'loss_function',\n",
        "#        along with the predicted ('y_pred') and actual ('y') output.\n",
        "loss = loss_function(y_pred, y)"
      ],
      "metadata": {
        "id": "8PC3H2C20ln9"
      },
      "execution_count": null,
      "outputs": []
    },
    {
      "cell_type": "markdown",
      "source": [
        "## 2.2 Backpropagation\n",
        "\n",
        "We next perform backpropagation for one pass to update the network weights and bias. We call the `backward()` method of the `loss` function to compute the gradients of the network parameters (e.g. weights and biases) with respect to the `loss`.  The computed gradients are stored in the respective parameter tensors and can be used for parameter updates.  This step is a crucial part of the training process, enabling the optimization algorithm to adjust the model's parameters based on the calculated gradients."
      ],
      "metadata": {
        "id": "zTf6b_iQBv_9"
      }
    },
    {
      "cell_type": "code",
      "source": [
        "#TODO: Add a line of code to call backward() method of the loss function,\n",
        "#      which calculates the gradients of the network parameters with respect to the loss.\n",
        "loss.backward()"
      ],
      "metadata": {
        "id": "eBix_aTBYazA"
      },
      "execution_count": null,
      "outputs": []
    },
    {
      "cell_type": "markdown",
      "source": [
        "After one backpropagation pass, the gradients are accessible via the `.grad` attribute of each parameter tensor. For example,\n",
        "\n",
        "*  `net[0].weight.grad` stores the gradient for all weights `(w1-w6)` in the first fully connected layer of the `net` model.\n",
        "*  `net[2].bias.grad` stores the gradient for the bias `(b3)` in the second fully connected layer of the `net` model.\n",
        "\n",
        "We now display the gradient $∂L/∂w_5$ for the weight `(w5)` in the first fully connected layer of the `net` network."
      ],
      "metadata": {
        "id": "FwY06oY1n-yX"
      }
    },
    {
      "cell_type": "code",
      "source": [
        "print(\"Gradient dL/dw5 after one backward pass:\")\n",
        "\n",
        "# TODO: Add a line of code to display the gradient dL/dw5 for the weight (w5) of the net network\n",
        "print(net[0].weight.grad[0][2].item())\n"
      ],
      "metadata": {
        "colab": {
          "base_uri": "https://localhost:8080/"
        },
        "id": "gHsyDB4boVOD",
        "outputId": "28ccdaa8-97bd-47b3-bb86-b3eaf0ba4355"
      },
      "execution_count": null,
      "outputs": [
        {
          "output_type": "stream",
          "name": "stdout",
          "text": [
            "Gradient dL/dw5 after one backward pass:\n",
            "-0.02500275708734989\n"
          ]
        }
      ]
    },
    {
      "cell_type": "markdown",
      "source": [
        "## 2.3 Update Weights through SGD\n",
        "\n",
        "We next update the weights and biases using a Stochastic Gradient Descent (SGD) optimiser (`optim.SGD`) with a learning rate $\\alpha = 0.1$. Note that `net.parameters()`, which represents the parameters (weights and biases) of the `net` network, can be used for SGD optimisation."
      ],
      "metadata": {
        "id": "ZNBBg9mWxigu"
      }
    },
    {
      "cell_type": "code",
      "source": [
        "# Import the 'optim' module from PyTorch for optimisation algorithms\n",
        "import torch.optim as optim\n",
        "\n",
        "# TODO: Add a line of code to update the weights and biases using a SGD optimiser (optim.SGD) with a learning rate (lr=0.1)\n",
        "optimiser = optim.SGD(net.parameters(), lr=0.1)\n",
        "\n",
        "# Update the network parameters (weights and biases) based on the computed gradients and the specified learning rate.\n",
        "# This step is a crucial part of the optimisation process, adjusting the network to minimise the loss.\n",
        "optimiser.step()\n",
        "\n",
        "# TODO: Add a line of code to print the updated weight (w5) after the optimiser step\n",
        "#       Hint:  'net[0].weight.data' displays the updated weights (w1-w6) of the first fully connected layer\n",
        "print(\"\\nUpdated weight (w5) after one backward pass:\")\n",
        "print(net[0].weight.data[0][2].item())"
      ],
      "metadata": {
        "colab": {
          "base_uri": "https://localhost:8080/"
        },
        "id": "NtQtZeNBsOij",
        "outputId": "c95a7c83-3ab1-4f28-91f4-3dc10eaac9be"
      },
      "execution_count": null,
      "outputs": [
        {
          "output_type": "stream",
          "name": "stdout",
          "text": [
            "\n",
            "Updated weight (w5) after one backward pass:\n",
            "0.0025002758484333754\n"
          ]
        }
      ]
    },
    {
      "cell_type": "markdown",
      "source": [
        "## 2.4 Visualise Computational Graph\n",
        "\n",
        "Finally, we generate a visualisation of the computational graph for the backward pass (gradients computation). The computational graph during the backward pass provides a visual representation of how gradients are calculated and propagated backward through the network. It is a useful tool for understanding how the model learns and how parameter updates are determined during the training process.\n",
        "\n",
        "\n",
        "We first install `torchviz` library and import necessary functions for visualising PyTorch computational graphs."
      ],
      "metadata": {
        "id": "pasabjvt5O1h"
      }
    },
    {
      "cell_type": "code",
      "source": [
        "# Install the 'torchviz' library for visualising computational graphs\n",
        "!pip install torchviz\n",
        "\n",
        "# Import the 'make_dot' function from the 'torchviz' module for creating a visualisation of the computational graph\n",
        "from torchviz import make_dot\n",
        "\n",
        "# Import the 'display' function and 'Image' class from IPython.display for displaying images\n",
        "from IPython.display import display, Image"
      ],
      "metadata": {
        "colab": {
          "base_uri": "https://localhost:8080/"
        },
        "id": "z2N6Wyo95ZvE",
        "outputId": "e1a84404-69f9-4c73-b642-85bb085344fb"
      },
      "execution_count": null,
      "outputs": [
        {
          "output_type": "stream",
          "name": "stdout",
          "text": [
            "Collecting torchviz\n",
            "  Downloading torchviz-0.0.2.tar.gz (4.9 kB)\n",
            "  Preparing metadata (setup.py) ... \u001b[?25l\u001b[?25hdone\n",
            "Requirement already satisfied: torch in /usr/local/lib/python3.10/dist-packages (from torchviz) (2.1.0+cu121)\n",
            "Requirement already satisfied: graphviz in /usr/local/lib/python3.10/dist-packages (from torchviz) (0.20.1)\n",
            "Requirement already satisfied: filelock in /usr/local/lib/python3.10/dist-packages (from torch->torchviz) (3.13.1)\n",
            "Requirement already satisfied: typing-extensions in /usr/local/lib/python3.10/dist-packages (from torch->torchviz) (4.9.0)\n",
            "Requirement already satisfied: sympy in /usr/local/lib/python3.10/dist-packages (from torch->torchviz) (1.12)\n",
            "Requirement already satisfied: networkx in /usr/local/lib/python3.10/dist-packages (from torch->torchviz) (3.2.1)\n",
            "Requirement already satisfied: jinja2 in /usr/local/lib/python3.10/dist-packages (from torch->torchviz) (3.1.3)\n",
            "Requirement already satisfied: fsspec in /usr/local/lib/python3.10/dist-packages (from torch->torchviz) (2023.6.0)\n",
            "Requirement already satisfied: triton==2.1.0 in /usr/local/lib/python3.10/dist-packages (from torch->torchviz) (2.1.0)\n",
            "Requirement already satisfied: MarkupSafe>=2.0 in /usr/local/lib/python3.10/dist-packages (from jinja2->torch->torchviz) (2.1.5)\n",
            "Requirement already satisfied: mpmath>=0.19 in /usr/local/lib/python3.10/dist-packages (from sympy->torch->torchviz) (1.3.0)\n",
            "Building wheels for collected packages: torchviz\n",
            "  Building wheel for torchviz (setup.py) ... \u001b[?25l\u001b[?25hdone\n",
            "  Created wheel for torchviz: filename=torchviz-0.0.2-py3-none-any.whl size=4131 sha256=427261f3af3a23c952a8db3ac85d31056ce7fc8d1499bd925865ea53fbf82ff9\n",
            "  Stored in directory: /root/.cache/pip/wheels/4c/97/88/a02973217949e0db0c9f4346d154085f4725f99c4f15a87094\n",
            "Successfully built torchviz\n",
            "Installing collected packages: torchviz\n",
            "Successfully installed torchviz-0.0.2\n"
          ]
        }
      ]
    },
    {
      "cell_type": "markdown",
      "source": [
        "Using `make_dot`, we then create a visualisation of the computational graph with the specified `loss` and network parameters. Next, we render the graph as a PNG image and save it as `omputational_graph.png`. Finally, we display the rendered graph using the `display` function.\n"
      ],
      "metadata": {
        "id": "v7ZTEUPW8Jsw"
      }
    },
    {
      "cell_type": "code",
      "source": [
        "# Add a line of code to create a graph visualisation using 'make_dot' with the 'loss' and network parameters 'net.named_parameters()'\n",
        "dot = make_dot(loss, params=dict(net.named_parameters()))\n",
        "\n",
        "# Add a line of code to use '.render()' to save the graph as a PNG image named \"computational_graph.png\"\n",
        "dot.render(\"computational_graph\", format=\"png\", cleanup=True)\n",
        "\n",
        "# Display the rendered graph using the 'display' function\n",
        "display(dot)"
      ],
      "metadata": {
        "colab": {
          "base_uri": "https://localhost:8080/",
          "height": 1000
        },
        "id": "SHXPodM97Z7F",
        "outputId": "37b022d6-2975-4bdf-bd0b-2dd6ec31f61e"
      },
      "execution_count": null,
      "outputs": [
        {
          "output_type": "display_data",
          "data": {
            "image/svg+xml": "<?xml version=\"1.0\" encoding=\"UTF-8\" standalone=\"no\"?>\n<!DOCTYPE svg PUBLIC \"-//W3C//DTD SVG 1.1//EN\"\n \"http://www.w3.org/Graphics/SVG/1.1/DTD/svg11.dtd\">\n<!-- Generated by graphviz version 2.43.0 (0)\n -->\n<!-- Title: %3 Pages: 1 -->\n<svg width=\"338pt\" height=\"853pt\"\n viewBox=\"0.00 0.00 338.00 853.00\" xmlns=\"http://www.w3.org/2000/svg\" xmlns:xlink=\"http://www.w3.org/1999/xlink\">\n<g id=\"graph0\" class=\"graph\" transform=\"scale(1 1) rotate(0) translate(4 849)\">\n<title>%3</title>\n<polygon fill=\"white\" stroke=\"transparent\" points=\"-4,4 -4,-849 334,-849 334,4 -4,4\"/>\n<!-- 132902983005616 -->\n<g id=\"node1\" class=\"node\">\n<title>132902983005616</title>\n<polygon fill=\"#caff70\" stroke=\"black\" points=\"193.5,-31 139.5,-31 139.5,0 193.5,0 193.5,-31\"/>\n<text text-anchor=\"middle\" x=\"166.5\" y=\"-7\" font-family=\"monospace\" font-size=\"10.00\"> ()</text>\n</g>\n<!-- 132902599495872 -->\n<g id=\"node2\" class=\"node\">\n<title>132902599495872</title>\n<polygon fill=\"lightgrey\" stroke=\"black\" points=\"211,-86 122,-86 122,-67 211,-67 211,-86\"/>\n<text text-anchor=\"middle\" x=\"166.5\" y=\"-74\" font-family=\"monospace\" font-size=\"10.00\">MulBackward0</text>\n</g>\n<!-- 132902599495872&#45;&gt;132902983005616 -->\n<g id=\"edge21\" class=\"edge\">\n<title>132902599495872&#45;&gt;132902983005616</title>\n<path fill=\"none\" stroke=\"black\" d=\"M166.5,-66.79C166.5,-60.07 166.5,-50.4 166.5,-41.34\"/>\n<polygon fill=\"black\" stroke=\"black\" points=\"170,-41.19 166.5,-31.19 163,-41.19 170,-41.19\"/>\n</g>\n<!-- 132902599493856 -->\n<g id=\"node3\" class=\"node\">\n<title>132902599493856</title>\n<polygon fill=\"lightgrey\" stroke=\"black\" points=\"214,-141 119,-141 119,-122 214,-122 214,-141\"/>\n<text text-anchor=\"middle\" x=\"166.5\" y=\"-129\" font-family=\"monospace\" font-size=\"10.00\">MeanBackward0</text>\n</g>\n<!-- 132902599493856&#45;&gt;132902599495872 -->\n<g id=\"edge1\" class=\"edge\">\n<title>132902599493856&#45;&gt;132902599495872</title>\n<path fill=\"none\" stroke=\"black\" d=\"M166.5,-121.75C166.5,-114.8 166.5,-104.85 166.5,-96.13\"/>\n<polygon fill=\"black\" stroke=\"black\" points=\"170,-96.09 166.5,-86.09 163,-96.09 170,-96.09\"/>\n</g>\n<!-- 132902599493664 -->\n<g id=\"node4\" class=\"node\">\n<title>132902599493664</title>\n<polygon fill=\"lightgrey\" stroke=\"black\" points=\"211,-196 122,-196 122,-177 211,-177 211,-196\"/>\n<text text-anchor=\"middle\" x=\"166.5\" y=\"-184\" font-family=\"monospace\" font-size=\"10.00\">PowBackward0</text>\n</g>\n<!-- 132902599493664&#45;&gt;132902599493856 -->\n<g id=\"edge2\" class=\"edge\">\n<title>132902599493664&#45;&gt;132902599493856</title>\n<path fill=\"none\" stroke=\"black\" d=\"M166.5,-176.75C166.5,-169.8 166.5,-159.85 166.5,-151.13\"/>\n<polygon fill=\"black\" stroke=\"black\" points=\"170,-151.09 166.5,-141.09 163,-151.09 170,-151.09\"/>\n</g>\n<!-- 132902599493568 -->\n<g id=\"node5\" class=\"node\">\n<title>132902599493568</title>\n<polygon fill=\"lightgrey\" stroke=\"black\" points=\"211,-251 122,-251 122,-232 211,-232 211,-251\"/>\n<text text-anchor=\"middle\" x=\"166.5\" y=\"-239\" font-family=\"monospace\" font-size=\"10.00\">SubBackward0</text>\n</g>\n<!-- 132902599493568&#45;&gt;132902599493664 -->\n<g id=\"edge3\" class=\"edge\">\n<title>132902599493568&#45;&gt;132902599493664</title>\n<path fill=\"none\" stroke=\"black\" d=\"M166.5,-231.75C166.5,-224.8 166.5,-214.85 166.5,-206.13\"/>\n<polygon fill=\"black\" stroke=\"black\" points=\"170,-206.09 166.5,-196.09 163,-206.09 170,-206.09\"/>\n</g>\n<!-- 132902599494096 -->\n<g id=\"node6\" class=\"node\">\n<title>132902599494096</title>\n<polygon fill=\"lightgrey\" stroke=\"black\" points=\"223,-306 110,-306 110,-287 223,-287 223,-306\"/>\n<text text-anchor=\"middle\" x=\"166.5\" y=\"-294\" font-family=\"monospace\" font-size=\"10.00\">SigmoidBackward0</text>\n</g>\n<!-- 132902599494096&#45;&gt;132902599493568 -->\n<g id=\"edge4\" class=\"edge\">\n<title>132902599494096&#45;&gt;132902599493568</title>\n<path fill=\"none\" stroke=\"black\" d=\"M166.5,-286.75C166.5,-279.8 166.5,-269.85 166.5,-261.13\"/>\n<polygon fill=\"black\" stroke=\"black\" points=\"170,-261.09 166.5,-251.09 163,-261.09 170,-261.09\"/>\n</g>\n<!-- 132902599494192 -->\n<g id=\"node7\" class=\"node\">\n<title>132902599494192</title>\n<polygon fill=\"lightgrey\" stroke=\"black\" points=\"214,-361 119,-361 119,-342 214,-342 214,-361\"/>\n<text text-anchor=\"middle\" x=\"166.5\" y=\"-349\" font-family=\"monospace\" font-size=\"10.00\">ViewBackward0</text>\n</g>\n<!-- 132902599494192&#45;&gt;132902599494096 -->\n<g id=\"edge5\" class=\"edge\">\n<title>132902599494192&#45;&gt;132902599494096</title>\n<path fill=\"none\" stroke=\"black\" d=\"M166.5,-341.75C166.5,-334.8 166.5,-324.85 166.5,-316.13\"/>\n<polygon fill=\"black\" stroke=\"black\" points=\"170,-316.09 166.5,-306.09 163,-316.09 170,-316.09\"/>\n</g>\n<!-- 132902599494288 -->\n<g id=\"node8\" class=\"node\">\n<title>132902599494288</title>\n<polygon fill=\"lightgrey\" stroke=\"black\" points=\"217,-416 116,-416 116,-397 217,-397 217,-416\"/>\n<text text-anchor=\"middle\" x=\"166.5\" y=\"-404\" font-family=\"monospace\" font-size=\"10.00\">AddmmBackward0</text>\n</g>\n<!-- 132902599494288&#45;&gt;132902599494192 -->\n<g id=\"edge6\" class=\"edge\">\n<title>132902599494288&#45;&gt;132902599494192</title>\n<path fill=\"none\" stroke=\"black\" d=\"M166.5,-396.75C166.5,-389.8 166.5,-379.85 166.5,-371.13\"/>\n<polygon fill=\"black\" stroke=\"black\" points=\"170,-371.09 166.5,-361.09 163,-371.09 170,-371.09\"/>\n</g>\n<!-- 132902599495104 -->\n<g id=\"node9\" class=\"node\">\n<title>132902599495104</title>\n<polygon fill=\"lightgrey\" stroke=\"black\" points=\"101,-471 0,-471 0,-452 101,-452 101,-471\"/>\n<text text-anchor=\"middle\" x=\"50.5\" y=\"-459\" font-family=\"monospace\" font-size=\"10.00\">AccumulateGrad</text>\n</g>\n<!-- 132902599495104&#45;&gt;132902599494288 -->\n<g id=\"edge7\" class=\"edge\">\n<title>132902599495104&#45;&gt;132902599494288</title>\n<path fill=\"none\" stroke=\"black\" d=\"M69.14,-451.98C87.8,-443.46 116.75,-430.23 138.24,-420.41\"/>\n<polygon fill=\"black\" stroke=\"black\" points=\"139.88,-423.51 147.52,-416.17 136.97,-417.14 139.88,-423.51\"/>\n</g>\n<!-- 132902982742832 -->\n<g id=\"node10\" class=\"node\">\n<title>132902982742832</title>\n<polygon fill=\"lightblue\" stroke=\"black\" points=\"77.5,-537 23.5,-537 23.5,-507 77.5,-507 77.5,-537\"/>\n<text text-anchor=\"middle\" x=\"50.5\" y=\"-525\" font-family=\"monospace\" font-size=\"10.00\">2.bias</text>\n<text text-anchor=\"middle\" x=\"50.5\" y=\"-514\" font-family=\"monospace\" font-size=\"10.00\"> (1)</text>\n</g>\n<!-- 132902982742832&#45;&gt;132902599495104 -->\n<g id=\"edge8\" class=\"edge\">\n<title>132902982742832&#45;&gt;132902599495104</title>\n<path fill=\"none\" stroke=\"black\" d=\"M50.5,-506.84C50.5,-499.21 50.5,-489.7 50.5,-481.45\"/>\n<polygon fill=\"black\" stroke=\"black\" points=\"54,-481.27 50.5,-471.27 47,-481.27 54,-481.27\"/>\n</g>\n<!-- 132902599494336 -->\n<g id=\"node11\" class=\"node\">\n<title>132902599494336</title>\n<polygon fill=\"lightgrey\" stroke=\"black\" points=\"214,-471 119,-471 119,-452 214,-452 214,-471\"/>\n<text text-anchor=\"middle\" x=\"166.5\" y=\"-459\" font-family=\"monospace\" font-size=\"10.00\">ViewBackward0</text>\n</g>\n<!-- 132902599494336&#45;&gt;132902599494288 -->\n<g id=\"edge9\" class=\"edge\">\n<title>132902599494336&#45;&gt;132902599494288</title>\n<path fill=\"none\" stroke=\"black\" d=\"M166.5,-451.75C166.5,-444.8 166.5,-434.85 166.5,-426.13\"/>\n<polygon fill=\"black\" stroke=\"black\" points=\"170,-426.09 166.5,-416.09 163,-426.09 170,-426.09\"/>\n</g>\n<!-- 132902599495200 -->\n<g id=\"node12\" class=\"node\">\n<title>132902599495200</title>\n<polygon fill=\"lightgrey\" stroke=\"black\" points=\"211,-531.5 116,-531.5 116,-512.5 211,-512.5 211,-531.5\"/>\n<text text-anchor=\"middle\" x=\"163.5\" y=\"-519.5\" font-family=\"monospace\" font-size=\"10.00\">TanhBackward0</text>\n</g>\n<!-- 132902599495200&#45;&gt;132902599494336 -->\n<g id=\"edge10\" class=\"edge\">\n<title>132902599495200&#45;&gt;132902599494336</title>\n<path fill=\"none\" stroke=\"black\" d=\"M163.94,-512.37C164.36,-504.25 165,-491.81 165.53,-481.39\"/>\n<polygon fill=\"black\" stroke=\"black\" points=\"169.04,-481.33 166.06,-471.17 162.05,-480.97 169.04,-481.33\"/>\n</g>\n<!-- 132902599495488 -->\n<g id=\"node13\" class=\"node\">\n<title>132902599495488</title>\n<polygon fill=\"lightgrey\" stroke=\"black\" points=\"211,-597.5 116,-597.5 116,-578.5 211,-578.5 211,-597.5\"/>\n<text text-anchor=\"middle\" x=\"163.5\" y=\"-585.5\" font-family=\"monospace\" font-size=\"10.00\">ViewBackward0</text>\n</g>\n<!-- 132902599495488&#45;&gt;132902599495200 -->\n<g id=\"edge11\" class=\"edge\">\n<title>132902599495488&#45;&gt;132902599495200</title>\n<path fill=\"none\" stroke=\"black\" d=\"M163.5,-578.37C163.5,-569.16 163.5,-554.29 163.5,-542.27\"/>\n<polygon fill=\"black\" stroke=\"black\" points=\"167,-541.91 163.5,-531.91 160,-541.91 167,-541.91\"/>\n</g>\n<!-- 132902599495392 -->\n<g id=\"node14\" class=\"node\">\n<title>132902599495392</title>\n<polygon fill=\"lightgrey\" stroke=\"black\" points=\"214,-658 113,-658 113,-639 214,-639 214,-658\"/>\n<text text-anchor=\"middle\" x=\"163.5\" y=\"-646\" font-family=\"monospace\" font-size=\"10.00\">AddmmBackward0</text>\n</g>\n<!-- 132902599495392&#45;&gt;132902599495488 -->\n<g id=\"edge12\" class=\"edge\">\n<title>132902599495392&#45;&gt;132902599495488</title>\n<path fill=\"none\" stroke=\"black\" d=\"M163.5,-638.87C163.5,-630.75 163.5,-618.31 163.5,-607.89\"/>\n<polygon fill=\"black\" stroke=\"black\" points=\"167,-607.67 163.5,-597.67 160,-607.67 167,-607.67\"/>\n</g>\n<!-- 132902599494528 -->\n<g id=\"node15\" class=\"node\">\n<title>132902599494528</title>\n<polygon fill=\"lightgrey\" stroke=\"black\" points=\"161,-713 60,-713 60,-694 161,-694 161,-713\"/>\n<text text-anchor=\"middle\" x=\"110.5\" y=\"-701\" font-family=\"monospace\" font-size=\"10.00\">AccumulateGrad</text>\n</g>\n<!-- 132902599494528&#45;&gt;132902599495392 -->\n<g id=\"edge13\" class=\"edge\">\n<title>132902599494528&#45;&gt;132902599495392</title>\n<path fill=\"none\" stroke=\"black\" d=\"M119.25,-693.75C126.97,-686.03 138.4,-674.6 147.72,-665.28\"/>\n<polygon fill=\"black\" stroke=\"black\" points=\"150.31,-667.64 154.91,-658.09 145.36,-662.69 150.31,-667.64\"/>\n</g>\n<!-- 132902982737712 -->\n<g id=\"node16\" class=\"node\">\n<title>132902982737712</title>\n<polygon fill=\"lightblue\" stroke=\"black\" points=\"137.5,-779 83.5,-779 83.5,-749 137.5,-749 137.5,-779\"/>\n<text text-anchor=\"middle\" x=\"110.5\" y=\"-767\" font-family=\"monospace\" font-size=\"10.00\">0.bias</text>\n<text text-anchor=\"middle\" x=\"110.5\" y=\"-756\" font-family=\"monospace\" font-size=\"10.00\"> (2)</text>\n</g>\n<!-- 132902982737712&#45;&gt;132902599494528 -->\n<g id=\"edge14\" class=\"edge\">\n<title>132902982737712&#45;&gt;132902599494528</title>\n<path fill=\"none\" stroke=\"black\" d=\"M110.5,-748.84C110.5,-741.21 110.5,-731.7 110.5,-723.45\"/>\n<polygon fill=\"black\" stroke=\"black\" points=\"114,-723.27 110.5,-713.27 107,-723.27 114,-723.27\"/>\n</g>\n<!-- 132902599494576 -->\n<g id=\"node17\" class=\"node\">\n<title>132902599494576</title>\n<polygon fill=\"lightgrey\" stroke=\"black\" points=\"256,-713 179,-713 179,-694 256,-694 256,-713\"/>\n<text text-anchor=\"middle\" x=\"217.5\" y=\"-701\" font-family=\"monospace\" font-size=\"10.00\">TBackward0</text>\n</g>\n<!-- 132902599494576&#45;&gt;132902599495392 -->\n<g id=\"edge15\" class=\"edge\">\n<title>132902599494576&#45;&gt;132902599495392</title>\n<path fill=\"none\" stroke=\"black\" d=\"M208.58,-693.75C200.72,-686.03 189.07,-674.6 179.58,-665.28\"/>\n<polygon fill=\"black\" stroke=\"black\" points=\"181.84,-662.6 172.25,-658.09 176.94,-667.59 181.84,-662.6\"/>\n</g>\n<!-- 132902599496400 -->\n<g id=\"node18\" class=\"node\">\n<title>132902599496400</title>\n<polygon fill=\"lightgrey\" stroke=\"black\" points=\"268,-773.5 167,-773.5 167,-754.5 268,-754.5 268,-773.5\"/>\n<text text-anchor=\"middle\" x=\"217.5\" y=\"-761.5\" font-family=\"monospace\" font-size=\"10.00\">AccumulateGrad</text>\n</g>\n<!-- 132902599496400&#45;&gt;132902599494576 -->\n<g id=\"edge16\" class=\"edge\">\n<title>132902599496400&#45;&gt;132902599494576</title>\n<path fill=\"none\" stroke=\"black\" d=\"M217.5,-754.37C217.5,-746.25 217.5,-733.81 217.5,-723.39\"/>\n<polygon fill=\"black\" stroke=\"black\" points=\"221,-723.17 217.5,-713.17 214,-723.17 221,-723.17\"/>\n</g>\n<!-- 132902982733712 -->\n<g id=\"node19\" class=\"node\">\n<title>132902982733712</title>\n<polygon fill=\"lightblue\" stroke=\"black\" points=\"250,-845 185,-845 185,-815 250,-815 250,-845\"/>\n<text text-anchor=\"middle\" x=\"217.5\" y=\"-833\" font-family=\"monospace\" font-size=\"10.00\">0.weight</text>\n<text text-anchor=\"middle\" x=\"217.5\" y=\"-822\" font-family=\"monospace\" font-size=\"10.00\"> (2, 3)</text>\n</g>\n<!-- 132902982733712&#45;&gt;132902599496400 -->\n<g id=\"edge17\" class=\"edge\">\n<title>132902982733712&#45;&gt;132902599496400</title>\n<path fill=\"none\" stroke=\"black\" d=\"M217.5,-814.8C217.5,-805.7 217.5,-793.79 217.5,-783.9\"/>\n<polygon fill=\"black\" stroke=\"black\" points=\"221,-783.84 217.5,-773.84 214,-783.84 221,-783.84\"/>\n</g>\n<!-- 132902599493808 -->\n<g id=\"node20\" class=\"node\">\n<title>132902599493808</title>\n<polygon fill=\"lightgrey\" stroke=\"black\" points=\"315,-471 238,-471 238,-452 315,-452 315,-471\"/>\n<text text-anchor=\"middle\" x=\"276.5\" y=\"-459\" font-family=\"monospace\" font-size=\"10.00\">TBackward0</text>\n</g>\n<!-- 132902599493808&#45;&gt;132902599494288 -->\n<g id=\"edge18\" class=\"edge\">\n<title>132902599493808&#45;&gt;132902599494288</title>\n<path fill=\"none\" stroke=\"black\" d=\"M258.83,-451.98C241.21,-443.5 213.92,-430.35 193.57,-420.54\"/>\n<polygon fill=\"black\" stroke=\"black\" points=\"195.02,-417.36 184.49,-416.17 191.98,-423.66 195.02,-417.36\"/>\n</g>\n<!-- 132902599495440 -->\n<g id=\"node21\" class=\"node\">\n<title>132902599495440</title>\n<polygon fill=\"lightgrey\" stroke=\"black\" points=\"330,-531.5 229,-531.5 229,-512.5 330,-512.5 330,-531.5\"/>\n<text text-anchor=\"middle\" x=\"279.5\" y=\"-519.5\" font-family=\"monospace\" font-size=\"10.00\">AccumulateGrad</text>\n</g>\n<!-- 132902599495440&#45;&gt;132902599493808 -->\n<g id=\"edge19\" class=\"edge\">\n<title>132902599495440&#45;&gt;132902599493808</title>\n<path fill=\"none\" stroke=\"black\" d=\"M279.06,-512.37C278.64,-504.25 278,-491.81 277.47,-481.39\"/>\n<polygon fill=\"black\" stroke=\"black\" points=\"280.95,-480.97 276.94,-471.17 273.96,-481.33 280.95,-480.97\"/>\n</g>\n<!-- 132906293406400 -->\n<g id=\"node22\" class=\"node\">\n<title>132906293406400</title>\n<polygon fill=\"lightblue\" stroke=\"black\" points=\"312,-603 247,-603 247,-573 312,-573 312,-603\"/>\n<text text-anchor=\"middle\" x=\"279.5\" y=\"-591\" font-family=\"monospace\" font-size=\"10.00\">2.weight</text>\n<text text-anchor=\"middle\" x=\"279.5\" y=\"-580\" font-family=\"monospace\" font-size=\"10.00\"> (1, 2)</text>\n</g>\n<!-- 132906293406400&#45;&gt;132902599495440 -->\n<g id=\"edge20\" class=\"edge\">\n<title>132906293406400&#45;&gt;132902599495440</title>\n<path fill=\"none\" stroke=\"black\" d=\"M279.5,-572.8C279.5,-563.7 279.5,-551.79 279.5,-541.9\"/>\n<polygon fill=\"black\" stroke=\"black\" points=\"283,-541.84 279.5,-531.84 276,-541.84 283,-541.84\"/>\n</g>\n</g>\n</svg>\n",
            "text/plain": [
              "<graphviz.graphs.Digraph at 0x78dfcc3b8790>"
            ]
          },
          "metadata": {}
        }
      ]
    },
    {
      "cell_type": "markdown",
      "source": [
        "## 2.5 Encapsulate All into a Training Loop\n",
        "\n",
        "The previous exercises focus only on a single forward and backward pass. We now integrate and encapsulate the above code into a training loop with a specified number of epochs `(num_epochs = 1000)`. Inside this loop, it performs a forward pass, computes the loss, backpropagates the gradients, updates the weights and biases using SGD, and zeros the gradients for the next iteration.\n",
        "\n",
        "Additionally, add a list `loss_values` to record the loss values at each epoch during training for later visualisation."
      ],
      "metadata": {
        "id": "TwV46TxnzR0M"
      }
    },
    {
      "cell_type": "code",
      "source": [
        "import torch\n",
        "import torch.nn as nn\n",
        "\n",
        "# TODO: Integrate and Encapsulate the above code into a training loop\n",
        "#       with a specified number of epochs (num_epochs = 1000)\n",
        "\n",
        "# Define the neural network architecture\n",
        "layer_1 = nn.Linear(3, 2)\n",
        "layer_2 = nn.Linear(2, 1)\n",
        "func_1 = nn.Tanh()\n",
        "func_2 = nn.Sigmoid()\n",
        "\n",
        "net = nn.Sequential(layer_1, func_1, layer_2, func_2)\n",
        "\n",
        "# Initialize weights and biases\n",
        "net[0].weight.data = torch.tensor([[1.0, 3.0, 0.0],\n",
        "                                   [-2.0, 1.0, 1.0]])\n",
        "net[0].bias.data = torch.tensor([-1.0, 1.0])\n",
        "net[2].weight.data = torch.tensor([[3.0, 1.0]])\n",
        "net[2].bias.data = torch.tensor([2.0])\n",
        "\n",
        "# Input data\n",
        "x = torch.tensor([-1.0, 0.0, 1.0])\n",
        "\n",
        "# Actual output\n",
        "y = torch.tensor([1.0])\n",
        "\n",
        "# Loss function\n",
        "class Loss(nn.Module):\n",
        "    def forward(self, y_pred, y):\n",
        "        # Calculate the loss between predicted (y_pred) and actual (y)\n",
        "        l = 0.5 * torch.mean((y - y_pred) ** 2)\n",
        "        return l\n",
        "\n",
        "loss_function = Loss()\n",
        "\n",
        "# Training loop\n",
        "learning_rate = 0.1\n",
        "num_epochs = 1000  # The number of epochs\n",
        "\n",
        "# Lists to store loss values for plotting\n",
        "loss_values = []\n",
        "\n",
        "for epoch in range(num_epochs):\n",
        "    # Forward pass\n",
        "    y_pred = net(x)\n",
        "\n",
        "    # Calculate the loss\n",
        "    loss = loss_function(y_pred, y)\n",
        "\n",
        "    # Store the loss value\n",
        "    loss_values.append(loss.item())\n",
        "\n",
        "    # Print the loss for each epoch\n",
        "    if epoch % 100 == 0:\n",
        "        print(f\"Epoch {epoch + 1}/{num_epochs}, Loss: {loss.item()}\")\n",
        "\n",
        "    # Backward pass\n",
        "    loss.backward()\n",
        "\n",
        "    # Update weights and biases using SGD optimiser\n",
        "    with torch.no_grad():\n",
        "        for param in net.parameters():\n",
        "            param -= learning_rate * param.grad\n",
        "\n",
        "    # Zero the gradients for the next iteration\n",
        "    net.zero_grad()\n"
      ],
      "metadata": {
        "colab": {
          "base_uri": "https://localhost:8080/"
        },
        "id": "_WAw4j9XZnQz",
        "outputId": "2d66d5a7-2dd9-4ee7-8439-05615d298d75"
      },
      "execution_count": null,
      "outputs": [
        {
          "output_type": "stream",
          "name": "stdout",
          "text": [
            "Epoch 1/1000, Loss: 0.11196576058864594\n",
            "Epoch 101/1000, Loss: 0.012278680689632893\n",
            "Epoch 201/1000, Loss: 0.005310799460858107\n",
            "Epoch 301/1000, Loss: 0.0031732232309877872\n",
            "Epoch 401/1000, Loss: 0.0021715678740292788\n",
            "Epoch 501/1000, Loss: 0.0016008138190954924\n",
            "Epoch 601/1000, Loss: 0.0012372066266834736\n",
            "Epoch 701/1000, Loss: 0.0009884199826046824\n",
            "Epoch 801/1000, Loss: 0.0008095828234218061\n",
            "Epoch 901/1000, Loss: 0.0006762811681255698\n"
          ]
        }
      ]
    },
    {
      "cell_type": "markdown",
      "source": [
        "## 2.6 Plot Loss Values\n",
        "\n",
        "Finally, we plot the training loss `(loss_values)` over time using the `matplotlib.pyplot` module."
      ],
      "metadata": {
        "id": "TVcv-HnG4Alo"
      }
    },
    {
      "cell_type": "code",
      "source": [
        "# Import the 'matplotlib.pyplot' module for plotting figures\n",
        "import matplotlib.pyplot as plt\n",
        "\n",
        "# TODO: Add a line of code to plot the loss values against the epochs\n",
        "plt.plot(loss_values, label='Training Loss')\n",
        "\n",
        "plt.title('Training Loss Over Time')\n",
        "plt.xlabel('Epoch')\n",
        "plt.ylabel('Loss')\n",
        "plt.legend()\n",
        "plt.show()"
      ],
      "metadata": {
        "colab": {
          "base_uri": "https://localhost:8080/",
          "height": 472
        },
        "id": "pZDbnV6obIWd",
        "outputId": "7f9aed54-779d-4d45-e0b5-b45dc90b08e4"
      },
      "execution_count": null,
      "outputs": [
        {
          "output_type": "display_data",
          "data": {
            "text/plain": [
              "<Figure size 640x480 with 1 Axes>"
            ],
            "image/png": "[encoded data removed]"
          },
          "metadata": {}
        }
      ]
    }
  ]
}