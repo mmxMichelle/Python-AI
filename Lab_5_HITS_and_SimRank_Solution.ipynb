{
  "nbformat": 4,
  "nbformat_minor": 0,
  "metadata": {
    "colab": {
      "provenance": [],
      "toc_visible": true,
      "include_colab_link": true
    },
    "kernelspec": {
      "name": "python3",
      "display_name": "Python 3"
    },
    "language_info": {
      "name": "python"
    }
  },
  "cells": [
    {
      "cell_type": "markdown",
      "metadata": {
        "id": "view-in-github",
        "colab_type": "text"
      },
      "source": [
        "<a href=\"https://colab.research.google.com/github/mmxMichelle/Python-AI/blob/main/Lab_5_HITS_and_SimRank_Solution.ipynb\" target=\"_parent\"><img src=\"https://colab.research.google.com/assets/colab-badge.svg\" alt=\"Open In Colab\"/></a>"
      ]
    },
    {
      "cell_type": "markdown",
      "source": [
        "# Lab 5 - HITS and SimRank\n",
        "\n",
        "In this lab, you will practice the following exercises to enhance your skills in network analysis:\n",
        "\n",
        "*  **[Exercise 1]** How to compute authority and hub scores of the HITS algorithm, using two different methods.\n",
        "\n",
        "*  **[Exercise 2]** How to compute single-pair and all-pairs SimRank similarities, using recursive and matrix-based approaches, respectively.\n"
      ],
      "metadata": {
        "id": "MrRb9Rp07sgd"
      }
    },
    {
      "cell_type": "markdown",
      "source": [
        "# 1. HITS\n",
        "\n",
        "The Hyperlink-Induced Topic Search (HITS) algorithm, developed by Jon Kleinberg, is a PageRank-like link analysis algorithm that evaluates the importance of nodes in a graph. The key idea behind HITS is the reinforcement assumption between two types of nodes:\n",
        "\n",
        "*   **Authorities:** Nodes that are pointed to by many other nodes, indicating that they are good sources of information.\n",
        "*   **Hubs:** Nodes that point to many other nodes, indicating that they are good at directing users to relevant information.\n",
        "\n",
        "Let $A$ be the adjacency matrix of the graph. Let $a$ and $h$ be the authority vector and hub vector, respectively. The authority and hub scores mutually reinforce each other through a bi-recursive relationship, encapsulated by the following expressions:\n",
        "\n",
        "$$\n",
        "a=\\frac{A^Th}{\\|A^Th\\|_2} \\tag{1}\n",
        "$$\n",
        "$$\n",
        "h=\\frac{Aa}{\\|Aa\\|_2}     \\tag{2}\n",
        "$$\n"
      ],
      "metadata": {
        "id": "AUQ01_koAL4A"
      }
    },
    {
      "cell_type": "markdown",
      "source": [
        "## Exercise 1.1\n",
        "\n",
        "To efficiently compute the authority vector $a$ and hub vector $h$ in Eqs.(1) and (2), we substitute (2) into (1), which yields\n",
        "\n",
        "$$\n",
        "a=\\frac{(A^TA)a}{\\|(A^TA)a\\|_2} \\tag{3}\n",
        "$$\n",
        "\n",
        "This suggests $a$ is the dominant eigenvector of the matrix $(A^TA)$.\n",
        "\n",
        "Similarly, substituting (1) into (2) produces\n",
        "\n",
        "$$\n",
        "h=\\frac{(AA^T)h}{\\|(AA^T)h\\|_2} \\tag{4}\n",
        "$$\n",
        "\n",
        "This suggests $h$ is the dominant eigenvector of the matrix $(AA^T)$.\n",
        "\n",
        "Using the above method, write a piece of code to compute the authority vector $a$ and hub vector $h$ for the following graph:"
      ],
      "metadata": {
        "id": "eBshWRHqHNYQ"
      }
    },
    {
      "cell_type": "code",
      "source": [
        "import networkx as nx\n",
        "import numpy as np\n",
        "import matplotlib.pyplot as plt\n",
        "\n",
        "# Create a directed graph G\n",
        "G = nx.DiGraph()\n",
        "G.add_edges_from([(1, 1), (1, 2), (2, 2), (2, 3), (3, 2)])\n",
        "\n",
        "# Get the adjacency matrix A\n",
        "A = nx.adjacency_matrix(G).toarray()\n",
        "\n",
        "# Find eigenvalues (eigvals_a) and eigenvectors (eigvecs_a) for matrix (A'*A)\n",
        "# Find eigenvalues (eigvals_h) and eigenvectors (eigvecs_h) for matrix (A*A')\n",
        "# Hint: use np.linalg.eig() for eigenvalue decomposition\n",
        "eigvals_a, eigvecs_a = np.linalg.eig(A.T @ A)\n",
        "eigvals_h, eigvecs_h = np.linalg.eig(A @ A.T)\n",
        "\n",
        "# Find the index (idx_a) of the dominant eigenvalue (largest magnitude) for eigvals_a\n",
        "# Find the index (idx_h) of the dominant eigenvalue (largest magnitude) for eigvals_h\n",
        "# Hint: use np.argmax() and np.abs()\n",
        "idx_a = np.argmax(np.abs(eigvals_a))\n",
        "idx_h = np.argmax(np.abs(eigvals_h))\n",
        "\n",
        "# Get the dominant eigenvector (auth) by extracting the eigenvectors (eigvecs_a) as authority vector\n",
        "# Get the dominant eigenvector (hub) by extracting the eigenvectors (eigvecs_h) as hub vector\n",
        "auth = np.abs(eigvecs_a[:, idx_a])\n",
        "hub = np.abs(eigvecs_h[:, idx_h])\n",
        "\n",
        "# Normalise authority vector (auth) and hub vector (hub), respectively, using L2-norm\n",
        "# Hint: use np.linalg.norm() to get L2-norm of a vector\n",
        "auth /= np.linalg.norm(auth)\n",
        "hub /= np.linalg.norm(hub)\n",
        "\n",
        "# Display the results\n",
        "print(\"Authority Vector:\")\n",
        "print(auth)\n",
        "print(\"Hub Vector:\")\n",
        "print(hub)"
      ],
      "metadata": {
        "colab": {
          "base_uri": "https://localhost:8080/"
        },
        "id": "0bd85OUCiinp",
        "outputId": "951910bb-7af4-44fd-b301-933c0165919e"
      },
      "execution_count": null,
      "outputs": [
        {
          "output_type": "stream",
          "name": "stdout",
          "text": [
            "Authority Vector:\n",
            "[0.32505758 0.88807383 0.32505758]\n",
            "Hub Vector:\n",
            "[0.62796303 0.62796303 0.45970084]\n"
          ]
        }
      ]
    },
    {
      "cell_type": "markdown",
      "source": [
        "##  Exercise 1.2\n",
        "\n",
        "The Singular Value Decomposition (SVD) of a matrix $A$ also provides a more efficient way to compute the dominant eigenvector of both $(A^TA)$ and $(AA^T)$. Here is how we can use SVD to achieve this:\n",
        "\n",
        "Let $A$ be the matrix with SVD $A=U\\Sigma V^T$, where $U$ and $V$ are orthogonal matrices, and $\\Sigma$ is a diagonal matrix with singular values on the diagonal. We have the following results:\n",
        "\n",
        "*   The dominant eigenvector of $(AA^T)$, i.e., the hub vector $h$, is the column of $U$ corresponding to the largest singular value.\n",
        "\n",
        "*   The dominant eigenvector of $(A^TA)$, i.e., the authority vector $a$, is the column of $V$ corresponding to the largest singular value.\n",
        "\n",
        "Using the above SVD method, write a piece of code to compute the authority vector  $a$ and hub vector $h$ for the following graph."
      ],
      "metadata": {
        "id": "ZIdE4dBlQEjz"
      }
    },
    {
      "cell_type": "code",
      "source": [
        "import networkx as nx\n",
        "import numpy as np\n",
        "import matplotlib.pyplot as plt\n",
        "\n",
        "# Create a directed graph G\n",
        "G = nx.DiGraph()\n",
        "G.add_edges_from([(1, 1), (1, 2), (2, 2), (2, 3), (3, 2)])\n",
        "\n",
        "# Get the adjacency matrix A\n",
        "A = nx.adjacency_matrix(G).toarray()\n",
        "\n",
        "# Get the Singular Value Decomposition (SVD) of matrix A such that A = U*S*Vt\n",
        "# Hint: use np.linalg.svd() function\n",
        "U, S, Vt = np.linalg.svd(A)\n",
        "\n",
        "#  Extract the dominant eigenvector corresponds to the column of (U)\n",
        "#  with the highest singular value as the hub vector (hub)\n",
        "hub = U[:, 0]\n",
        "\n",
        "#  Extract the dominant eigenvector corresponds to the column of (V)\n",
        "#  with the highest singular value as the authority vector (auth)\n",
        "auth = Vt.T[:, 0]\n",
        "\n",
        "# Normalise the authority and hub vectors, respectively, by dividing each vector by its L2 norm.\n",
        "# Hint: use np.linalg.norm() function\n",
        "hub /= np.linalg.norm(hub)\n",
        "auth /= np.linalg.norm(auth)\n",
        "\n",
        "# Print the result\n",
        "print(\"Authority Vector:\")\n",
        "print(auth)\n",
        "\n",
        "print(\"Hub Vector:\")\n",
        "print(hub)"
      ],
      "metadata": {
        "colab": {
          "base_uri": "https://localhost:8080/"
        },
        "id": "ylHUd9offZWZ",
        "outputId": "c43e4b09-00ab-48bc-b2ac-e53bc2968c7b"
      },
      "execution_count": null,
      "outputs": [
        {
          "output_type": "stream",
          "name": "stdout",
          "text": [
            "Authority Vector:\n",
            "[0.32505758 0.88807383 0.32505758]\n",
            "Hub Vector:\n",
            "[0.62796303 0.62796303 0.45970084]\n"
          ]
        }
      ]
    },
    {
      "cell_type": "markdown",
      "source": [
        "# 2.  SimRank\n",
        "\n",
        "SimRank is a similarity measure that assesses the similarity between two nodes in a graph. The fundamental idea behind SimRank is that two nodes are similar if their in-neighbors are also similar.\n",
        "\n",
        "Let $s(a, b)$ be the SimRank similarity between two nodes $a$ and $b$. Let $I(a)$ denote the in-neighbor set of node $a$. Then, the recursive equation for $s(a, b)$ is defined as follows:\n",
        "\n",
        "*   If $a = b$, then $s(a, b)=1$.\n",
        "*   If $I(a) = \\emptyset$ or $I(b) = \\emptyset$, then $s(a, b)=0$.\n",
        "*   Otherwise,\n",
        "$$\n",
        "s(a, b) = \\frac{C}{\\left|I(a)\\right| \\left|I(b)\\right|}\n",
        " \\sum_{i \\in I(a)}\\sum_{j \\in I(b)}\n",
        " s(i, j)  \\tag{5}\n",
        "$$\n",
        "where $C$ is a constant between $0$ and $1$, which is often set to $0.6$.\n"
      ],
      "metadata": {
        "id": "Wgtq5KQbpE1n"
      }
    },
    {
      "cell_type": "markdown",
      "source": [
        "## Exercise 2.1\n",
        "\n",
        "Write a function `simrank(G, a, b, C)` to recursively compute the SimRank similarity between nodes `a` and `b` in a digraph `G`  based on Eq.(5)."
      ],
      "metadata": {
        "id": "T4A5aRj6zYDt"
      }
    },
    {
      "cell_type": "code",
      "source": [
        "import networkx as nx\n",
        "\n",
        "def simrank(G, a, b, C=0.6):\n",
        "    \"\"\"\n",
        "    Recursively compute SimRank similarity between nodes a and b in a directed graph G.\n",
        "\n",
        "    Parameters:\n",
        "    - G     : A digraph.\n",
        "    - a, b  : Nodes for which to compute SimRank similarity.\n",
        "    - C     : A constant decay factor, defaults to 0.6.\n",
        "\n",
        "    Returns:\n",
        "    - float: SimRank similarity score s(a,b) between a and b.\n",
        "    \"\"\"\n",
        "\n",
        "    # Base case: If nodes are the same, similarity is 1.0\n",
        "    if a == b:\n",
        "        return 1.0\n",
        "\n",
        "    # Get the in-neighbors of nodes a and b\n",
        "    in_nbrs_a = set(G.predecessors(a))\n",
        "    in_nbrs_b = set(G.predecessors(b))\n",
        "\n",
        "    # Check if either set of in-neighbors is empty\n",
        "    if not bool(in_nbrs_a) or not bool(in_nbrs_b):\n",
        "        return 0.0\n",
        "\n",
        "    # Initialize the similarity score\n",
        "    s = 0.0\n",
        "\n",
        "    # Iterate over pairs of in-neighbors and accumulate similarity scores\n",
        "    for j in in_nbrs_b:\n",
        "        for i in in_nbrs_a:\n",
        "            s += simrank(G, i, j, C)\n",
        "\n",
        "    # Compute and return the final similarity score\n",
        "    return C / (G.in_degree(a) * G.in_degree(b)) * s\n",
        "\n",
        "\n",
        "# Create a directed graph\n",
        "G = nx.DiGraph()\n",
        "G.add_edges_from([(1, 2), (1, 3), (1, 4), (2, 5), (2, 6), (3, 6), (3, 7), (4, 7)])\n",
        "\n",
        "# Compute SimRank similarity for nodes 5 and 6\n",
        "sim = simrank(G, 5, 6)\n",
        "\n",
        "# Print the result\n",
        "print(f\"SimRank Similarity s(5,6) = {sim}\")\n"
      ],
      "metadata": {
        "colab": {
          "base_uri": "https://localhost:8080/"
        },
        "id": "Fh33Mm0upGnQ",
        "outputId": "588e7ecf-cb26-46a9-a80f-93f27038e7b1"
      },
      "execution_count": null,
      "outputs": [
        {
          "output_type": "stream",
          "name": "stdout",
          "text": [
            "SimRank Similarity s(5,6) = 0.48\n"
          ]
        }
      ]
    },
    {
      "cell_type": "markdown",
      "source": [
        "## Exercise 2.2\n",
        "\n",
        "In matrix notations, the SimRank Eq.(5) can also be rewritten as follows:\n",
        "\n",
        "$$\n",
        "S=\\max \\{C\\cdot Q^T S Q, I \\}\n",
        "$$\n",
        "\n",
        "where $Q$ is obtained by normalising each column of the adjacency matrix $A$. $I$ is an identity matrix, and $S$ is the similarity matrix, whose $(a,b)$-entry denotes the SimRank similarity between nodes $a$ and $b$.\n",
        "\n",
        "To obtain the SimRank matrix $S$, we can use the following iterative method to compute $S_k$:\n",
        "\n",
        "$$\n",
        "S_k = \\max \\{C\\cdot Q^T S_{k-1} Q, I \\}  \\quad \\text{ with } \\quad S_0=I\n",
        "$$\n",
        "\n",
        "Write a piece of code to iteratively compute the SimRank matrix:\n"
      ],
      "metadata": {
        "id": "6GHvo23o3tDe"
      }
    },
    {
      "cell_type": "code",
      "source": [
        "# Create a directed graph (G) using NetworkX\n",
        "G = nx.DiGraph()\n",
        "G.add_edges_from([(1, 2), (1, 3), (1, 4), (2, 5), (2, 6), (3, 6), (3, 7), (4, 7)])\n",
        "A = nx.adjacency_matrix(G).toarray()\n",
        "\n",
        "C = 0.6    # Damping factor\n",
        "kmax = 5   # Maximum number of iterations\n",
        "\n",
        "# Get the number of nodes (n) in the graph G\n",
        "n = nx.number_of_nodes(G)\n",
        "\n",
        "# Column-normalise the adjacency matrix A\n",
        "col_sums = A.sum(axis=0)\n",
        "col_sums[col_sums==0] = 1\n",
        "Q = A / col_sums\n",
        "\n",
        "# Initialise the similarity matrix with the identity matrix\n",
        "S = np.identity(n)\n",
        "\n",
        "# Perform SimRank iterations to update the similarity matrix\n",
        "for k in range(kmax):\n",
        "    S = C* (Q.T @ S @ Q)\n",
        "    S = np.maximum(S, np.identity(n))\n",
        "\n",
        "# Print the final similarity matrix after the specified number of iterations (kmax = 5)\n",
        "print(\"SimRank Matrix S = \")\n",
        "print(S)"
      ],
      "metadata": {
        "colab": {
          "base_uri": "https://localhost:8080/"
        },
        "id": "NGLFqIi9x9PN",
        "outputId": "aaa84a46-6d5d-4cdf-abb4-cc1d37318d8e"
      },
      "execution_count": null,
      "outputs": [
        {
          "output_type": "stream",
          "name": "stdout",
          "text": [
            "SimRank Matrix S = \n",
            "[[1.   0.   0.   0.   0.   0.   0.  ]\n",
            " [0.   1.   0.6  0.6  0.   0.   0.  ]\n",
            " [0.   0.6  1.   0.6  0.   0.   0.  ]\n",
            " [0.   0.6  0.6  1.   0.   0.   0.  ]\n",
            " [0.   0.   0.   0.   1.   0.48 0.36]\n",
            " [0.   0.   0.   0.   0.48 1.   0.42]\n",
            " [0.   0.   0.   0.   0.36 0.42 1.  ]]\n"
          ]
        }
      ]
    }
  ]
}